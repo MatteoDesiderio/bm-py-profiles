{
 "cells": [
  {
   "cell_type": "code",
   "execution_count": null,
   "id": "2c68fe2b",
   "metadata": {},
   "outputs": [],
   "source": [
    "import numpy as np\n",
    "import matplotlib.pyplot as plt\n",
    "\n",
    "%matplotlib widget\n",
    "\n",
    "# %% choose \n",
    "year = 11 #  which stx-brt database?\n",
    "c_map = \"PRGn\"\n",
    "\n",
    "# %% other details\n",
    "plt.rcParams[\"axes.facecolor\"] = \"lightgray\"\n",
    "plt.style.use(\"ggplot\")\n",
    "nums = np.linspace(80, 100, 11, dtype=int) # Mg numbers"
   ]
  },
  {
   "cell_type": "code",
   "execution_count": null,
   "id": "e39b0a41",
   "metadata": {},
   "outputs": [],
   "source": [
    "\n",
    "# %% stagyy\n",
    "# adiabat of the cobined reference profile \n",
    "# I found this is very similar to the average of ol and pxgt, w F_ol = 0.6375)\n",
    "P = np.loadtxt(\"Pcombo.txt\") \n",
    "T = np.loadtxt(\"Tcombo.txt\")\n",
    "# adiabat of the primpordial material, hotter than combo\n",
    "Ppr = np.loadtxt(\"Ppr.txt\")\n",
    "Tpr = np.loadtxt(\"Tpr.txt\")\n",
    "# density = rho_pxgt * (1 - F_ol) + rho_ol * F_ol\n",
    "rho_py_stag = np.loadtxt(\"rho_py_stag.txt\", )\n",
    "# density along Ppr, Tpr\n",
    "rho_pr_stag = np.loadtxt(\"rho_pr_stag.txt\", )\n",
    "# depth \n",
    "z = np.loadtxt(\"depth.txt\")\n",
    "\n",
    "# %% perplex\n",
    "rho_py = np.loadtxt(\"rho_py-stx%i.txt\" % year)\n"
   ]
  },
  {
   "cell_type": "code",
   "execution_count": null,
   "id": "5545775e",
   "metadata": {},
   "outputs": [],
   "source": [
    "\n",
    "# %% plot \n",
    "fig_pr, (ax_pr, ax_py) = plt.subplots(2, 1, sharex=\"all\", sharey=\"all\")\n",
    "cmap = getattr(plt.cm, c_map)\n",
    "\n",
    "for i, mgnum in enumerate(nums):\n",
    "    col = cmap((i + 1)/len(nums))\n",
    "    if i == 0:\n",
    "        ax_pr.plot(z, rho_pr_stag, \"k--\", label=\"StagYY\", zorder=100)\n",
    "        ax_py.plot(z, rho_py_stag, \"--\", label=\"StagYY\", zorder=100)\n",
    "        ax_py.plot(z, rho_py, \"-\", label=\"Perplex\", zorder=100)\n",
    "        \n",
    "    rho_pr = np.loadtxt(\"%i-stx%i.txt\" % (mgnum, year))\n",
    "    ax_pr.plot(z, rho_pr, c=col, label=mgnum)\n",
    "    \n",
    "    ax_pr.legend(ncol=2)\n",
    "    ax_py.legend()\n",
    "    \n",
    "# \n",
    "ax_py.set_xlabel(\"depth [km]\")\n",
    "ax_pr.set_ylabel(\"density [kg/m^3]\")\n",
    "ax_py.set_ylabel(\"density [kg/m^3]\")\n",
    "ax_pr.set_title(\"Primordial\")\n",
    "ax_py.set_title(\"Pyrolite\")\n",
    "fig_pr.suptitle(\"Stagyy vs Perplex\")\n",
    "\n",
    "plt.ion()\n",
    "plt.show()\n"
   ]
  },
  {
   "cell_type": "code",
   "execution_count": null,
   "id": "2d155c41",
   "metadata": {},
   "outputs": [],
   "source": []
  }
 ],
 "metadata": {
  "kernelspec": {
   "display_name": "Python 3 (ipykernel)",
   "language": "python",
   "name": "python3"
  },
  "language_info": {
   "codemirror_mode": {
    "name": "ipython",
    "version": 3
   },
   "file_extension": ".py",
   "mimetype": "text/x-python",
   "name": "python",
   "nbconvert_exporter": "python",
   "pygments_lexer": "ipython3",
   "version": "3.9.7"
  }
 },
 "nbformat": 4,
 "nbformat_minor": 5
}
